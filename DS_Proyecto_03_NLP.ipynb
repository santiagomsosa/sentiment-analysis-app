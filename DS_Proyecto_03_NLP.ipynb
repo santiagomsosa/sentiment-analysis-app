{
  "nbformat": 4,
  "nbformat_minor": 0,
  "metadata": {
    "kernelspec": {
      "display_name": "Python 3",
      "language": "python",
      "name": "python3"
    },
    "language_info": {
      "codemirror_mode": {
        "name": "ipython",
        "version": 3
      },
      "file_extension": ".py",
      "mimetype": "text/x-python",
      "name": "python",
      "nbconvert_exporter": "python",
      "pygments_lexer": "ipython3",
      "version": "3.8.2"
    },
    "colab": {
      "name": "DS_Proyecto_03_NLP.ipynb",
      "provenance": [],
      "collapsed_sections": []
    }
  },
  "cells": [
    {
      "cell_type": "markdown",
      "metadata": {
        "id": "2GRQnxMzISE_"
      },
      "source": [
        "# Proyecto 03 - Procesamiento del Lenguaje Natural\n",
        "\n",
        "## Dataset: The Multilingual Amazon Reviews Corpus\n",
        "\n",
        "**Recuerda descargar el dataset de [aquí](https://github.com/kang205/SASRec). Es un archivo .zip que contiene tres documentos. Más información sobre el dataset [aquí](https://registry.opendata.aws/amazon-reviews-ml/). Es importante que tengas en cuenta la [licencia](https://docs.opendata.aws/amazon-reviews-ml/license.txt) de este dataset.**\n",
        "\n",
        "### Exploración de datos y Procesamiento del Lenguaje Natural\n",
        "\n",
        "Dedícale un buen tiempo a hacer un Análisis Exploratorio de Datos. Considera que hasta que no hayas aplicado las herramientas de Procesamiento del Lenguaje Natural vistas, será difícil completar este análisis. Elige preguntas que creas que puedas responder con este dataset. Por ejemplo, ¿qué palabras están asociadas a calificaciones positivas y qué palabras a calificaciones negativas?\n",
        "\n",
        "### Machine Learning\n",
        "\n",
        "Implementa un modelo que, dada la crítica de un producto, asigne la cantidad de estrellas correspondiente. **Para pensar**: ¿es un problema de Clasificación o de Regresión?\n",
        "\n",
        "1. Haz todas las transformaciones de datos que consideres necesarias. Justifica.\n",
        "1. Evalúa de forma apropiada sus resultados. Justifica la métrica elegida.\n",
        "1. Elige un modelo benchmark y compara tus resultados con este modelo.\n",
        "1. Optimiza los hiperparámetros de tu modelo.\n",
        "1. Intenta responder la pregunta: ¿Qué información está usando el modelo para predecir?\n",
        "\n",
        "**Recomendación:** si no te resulta conveniente trabajar en español con NLTK, te recomendamos que explores la librería [spaCy](https://spacy.io/).\n",
        "\n",
        "### Para pensar, investigar y, opcionalmente, implementar\n",
        "1. ¿Valdrá la pena convertir el problema de Machine Learning en un problema binario? Es decir, asignar únicamente las etiquetas Positiva y Negativa a cada crítica y hacer un modelo que, en lugar de predecir las estrellas, prediga esa etiqueta. Pensar en qué situación puede ser útil. ¿Esperas que el desempeño sea mejor o peor?\n",
        "1. ¿Hay algo que te gustaría investigar o probar?\n",
        "\n",
        "### **¡Tómate tiempo para investigar y leer mucho!**"
      ]
    },
    {
      "cell_type": "code",
      "metadata": {
        "id": "x1GFwraSISFB",
        "colab": {
          "base_uri": "https://localhost:8080/"
        },
        "outputId": "16f19735-3151-4d23-9109-8acce019fcdb"
      },
      "source": [
        "import itertools\n",
        "\n",
        "import numpy as np\n",
        "import pandas as pd\n",
        "\n",
        "import matplotlib.pyplot as plt\n",
        "import seaborn as sns\n",
        "sns.set()\n",
        "\n",
        "import nltk\n",
        "\n",
        "# Esto sirve para configurar NLTK. La primera vez puede tardar un poco\n",
        "nltk.download('punkt')\n",
        "nltk.download('stopwords')"
      ],
      "execution_count": 1,
      "outputs": [
        {
          "output_type": "stream",
          "text": [
            "[nltk_data] Downloading package punkt to /root/nltk_data...\n",
            "[nltk_data]   Package punkt is already up-to-date!\n",
            "[nltk_data] Downloading package stopwords to /root/nltk_data...\n",
            "[nltk_data]   Package stopwords is already up-to-date!\n"
          ],
          "name": "stdout"
        },
        {
          "output_type": "execute_result",
          "data": {
            "text/plain": [
              "True"
            ]
          },
          "metadata": {
            "tags": []
          },
          "execution_count": 1
        }
      ]
    },
    {
      "cell_type": "code",
      "metadata": {
        "colab": {
          "base_uri": "https://localhost:8080/"
        },
        "id": "1qf4IwhRBwZS",
        "outputId": "ece86c8c-926a-4359-cd6b-a985daf9229a"
      },
      "source": [
        "from google.colab import drive\n",
        "drive.mount('/content/gdrive')"
      ],
      "execution_count": 2,
      "outputs": [
        {
          "output_type": "stream",
          "text": [
            "Drive already mounted at /content/gdrive; to attempt to forcibly remount, call drive.mount(\"/content/gdrive\", force_remount=True).\n"
          ],
          "name": "stdout"
        }
      ]
    },
    {
      "cell_type": "code",
      "metadata": {
        "id": "pgmjkk2k_6Kt"
      },
      "source": [
        "ds_dev = pd.read_json('/content/gdrive/My Drive/Data Science/amazonds/dataset_es_dev.json', lines= True)\n",
        "ds_test = pd.read_json('/content/gdrive/My Drive/Data Science/amazonds/dataset_es_test.json', lines= True)\n",
        "ds_train = pd.read_json('/content/gdrive/My Drive/Data Science/amazonds/dataset_es_train.json', lines= True)"
      ],
      "execution_count": 3,
      "outputs": []
    },
    {
      "cell_type": "code",
      "metadata": {
        "colab": {
          "base_uri": "https://localhost:8080/",
          "height": 204
        },
        "id": "_j2O17dbCXAU",
        "outputId": "e56ee7e9-79f4-4d2b-ce05-b1e30ec5a0ce"
      },
      "source": [
        "ds_dev.head()"
      ],
      "execution_count": 4,
      "outputs": [
        {
          "output_type": "execute_result",
          "data": {
            "text/html": [
              "<div>\n",
              "<style scoped>\n",
              "    .dataframe tbody tr th:only-of-type {\n",
              "        vertical-align: middle;\n",
              "    }\n",
              "\n",
              "    .dataframe tbody tr th {\n",
              "        vertical-align: top;\n",
              "    }\n",
              "\n",
              "    .dataframe thead th {\n",
              "        text-align: right;\n",
              "    }\n",
              "</style>\n",
              "<table border=\"1\" class=\"dataframe\">\n",
              "  <thead>\n",
              "    <tr style=\"text-align: right;\">\n",
              "      <th></th>\n",
              "      <th>review_id</th>\n",
              "      <th>product_id</th>\n",
              "      <th>reviewer_id</th>\n",
              "      <th>stars</th>\n",
              "      <th>review_body</th>\n",
              "      <th>review_title</th>\n",
              "      <th>language</th>\n",
              "      <th>product_category</th>\n",
              "    </tr>\n",
              "  </thead>\n",
              "  <tbody>\n",
              "    <tr>\n",
              "      <th>0</th>\n",
              "      <td>es_0417480</td>\n",
              "      <td>product_es_0873923</td>\n",
              "      <td>reviewer_es_0672978</td>\n",
              "      <td>1</td>\n",
              "      <td>Malisimo, muy grande demasiado aparatoso y mal...</td>\n",
              "      <td>Mala compra</td>\n",
              "      <td>es</td>\n",
              "      <td>wireless</td>\n",
              "    </tr>\n",
              "    <tr>\n",
              "      <th>1</th>\n",
              "      <td>es_0180432</td>\n",
              "      <td>product_es_0713146</td>\n",
              "      <td>reviewer_es_0100858</td>\n",
              "      <td>1</td>\n",
              "      <td>No he recibido el pedido no la devolución</td>\n",
              "      <td>No lo he recibido</td>\n",
              "      <td>es</td>\n",
              "      <td>apparel</td>\n",
              "    </tr>\n",
              "    <tr>\n",
              "      <th>2</th>\n",
              "      <td>es_0144850</td>\n",
              "      <td>product_es_0356874</td>\n",
              "      <td>reviewer_es_0486447</td>\n",
              "      <td>1</td>\n",
              "      <td>Tengo que buscar otro sistema, este no funcion...</td>\n",
              "      <td>Que no aprieta bien en el manillar</td>\n",
              "      <td>es</td>\n",
              "      <td>sports</td>\n",
              "    </tr>\n",
              "    <tr>\n",
              "      <th>3</th>\n",
              "      <td>es_0339629</td>\n",
              "      <td>product_es_0939832</td>\n",
              "      <td>reviewer_es_0894703</td>\n",
              "      <td>1</td>\n",
              "      <td>Utilicé las brocas de menor diámetro y se me d...</td>\n",
              "      <td>Brocas de mantequilla</td>\n",
              "      <td>es</td>\n",
              "      <td>home_improvement</td>\n",
              "    </tr>\n",
              "    <tr>\n",
              "      <th>4</th>\n",
              "      <td>es_0858362</td>\n",
              "      <td>product_es_0489066</td>\n",
              "      <td>reviewer_es_0887663</td>\n",
              "      <td>1</td>\n",
              "      <td>No me gusta su olor a viejo y aspecto malo</td>\n",
              "      <td>No me gusta</td>\n",
              "      <td>es</td>\n",
              "      <td>beauty</td>\n",
              "    </tr>\n",
              "  </tbody>\n",
              "</table>\n",
              "</div>"
            ],
            "text/plain": [
              "    review_id          product_id  ... language  product_category\n",
              "0  es_0417480  product_es_0873923  ...       es          wireless\n",
              "1  es_0180432  product_es_0713146  ...       es           apparel\n",
              "2  es_0144850  product_es_0356874  ...       es            sports\n",
              "3  es_0339629  product_es_0939832  ...       es  home_improvement\n",
              "4  es_0858362  product_es_0489066  ...       es            beauty\n",
              "\n",
              "[5 rows x 8 columns]"
            ]
          },
          "metadata": {
            "tags": []
          },
          "execution_count": 4
        }
      ]
    },
    {
      "cell_type": "code",
      "metadata": {
        "id": "K8jm8V_JIvm-"
      },
      "source": [
        "#Importo stopwords para español\n",
        "stopwords = nltk.corpus.stopwords.words('spanish')\n",
        "stopwords = [palabra for palabra in stopwords if 'not' not in palabra]\n",
        "\n",
        "#Armo un filtro para palabras que no quiero considerar\n",
        "filtrar = []\n",
        "if True:\n",
        "    filtrar.append(\"si\")\n",
        "    filtrar.append(\"producto\")\n",
        "    filtrar.append(\"q\")"
      ],
      "execution_count": 5,
      "outputs": []
    },
    {
      "cell_type": "markdown",
      "metadata": {
        "id": "896pZd2iNAFm"
      },
      "source": [
        "Hago un analisis para los reviews con 1, 3 y 5 estrellas, viendo cuales son las palabras más frecuentes en cada caso."
      ]
    },
    {
      "cell_type": "code",
      "metadata": {
        "id": "199neAN9CbCe"
      },
      "source": [
        "reviews_dev1 = []\n",
        "ds_dev1 = ds_dev[ds_dev.stars == 1]\n",
        "for i in range(ds_dev1.shape[0]):\n",
        "    review = ds_dev1.iloc[i].review_body  \n",
        "    review = review.lower()\n",
        "    review = nltk.tokenize.RegexpTokenizer(\"[\\w]+\").tokenize(review)\n",
        "    review = [word for word in review if word not in stopwords]\n",
        "    review = [word for word in review if word not in filtrar]\n",
        "\n",
        "    reviews_dev1.append(review)"
      ],
      "execution_count": 6,
      "outputs": []
    },
    {
      "cell_type": "code",
      "metadata": {
        "colab": {
          "base_uri": "https://localhost:8080/"
        },
        "id": "o9xu24IKIa2U",
        "outputId": "72cc95a7-2d28-45d2-b00c-2f43a89bb23a"
      },
      "source": [
        "reviews_dev1 = list(itertools.chain(*reviews_dev1))\n",
        "reviews_dev1[0:10]"
      ],
      "execution_count": 7,
      "outputs": [
        {
          "output_type": "execute_result",
          "data": {
            "text/plain": [
              "['malisimo',\n",
              " 'grande',\n",
              " 'demasiado',\n",
              " 'aparatoso',\n",
              " 'mal',\n",
              " 'protector',\n",
              " 'pantalla',\n",
              " 'recibido',\n",
              " 'pedido',\n",
              " 'devolución']"
            ]
          },
          "metadata": {
            "tags": []
          },
          "execution_count": 7
        }
      ]
    },
    {
      "cell_type": "code",
      "metadata": {
        "id": "OlbwuXmgJiv3"
      },
      "source": [
        "frecuencia1 = nltk.FreqDist(reviews_dev1)"
      ],
      "execution_count": 8,
      "outputs": []
    },
    {
      "cell_type": "code",
      "metadata": {
        "id": "9U-1el8PJsXd"
      },
      "source": [
        "frecuencia1 = pd.DataFrame(list(frecuencia1.items()), columns = [\"palabra\",\"frecuencia\"])"
      ],
      "execution_count": 9,
      "outputs": []
    },
    {
      "cell_type": "code",
      "metadata": {
        "colab": {
          "base_uri": "https://localhost:8080/",
          "height": 204
        },
        "id": "Nl-t6th8Ki35",
        "outputId": "a44e215a-e0ba-4096-cc2e-ef6b59e39192"
      },
      "source": [
        "frecuencia1.head()"
      ],
      "execution_count": 10,
      "outputs": [
        {
          "output_type": "execute_result",
          "data": {
            "text/html": [
              "<div>\n",
              "<style scoped>\n",
              "    .dataframe tbody tr th:only-of-type {\n",
              "        vertical-align: middle;\n",
              "    }\n",
              "\n",
              "    .dataframe tbody tr th {\n",
              "        vertical-align: top;\n",
              "    }\n",
              "\n",
              "    .dataframe thead th {\n",
              "        text-align: right;\n",
              "    }\n",
              "</style>\n",
              "<table border=\"1\" class=\"dataframe\">\n",
              "  <thead>\n",
              "    <tr style=\"text-align: right;\">\n",
              "      <th></th>\n",
              "      <th>palabra</th>\n",
              "      <th>frecuencia</th>\n",
              "    </tr>\n",
              "  </thead>\n",
              "  <tbody>\n",
              "    <tr>\n",
              "      <th>0</th>\n",
              "      <td>malisimo</td>\n",
              "      <td>3</td>\n",
              "    </tr>\n",
              "    <tr>\n",
              "      <th>1</th>\n",
              "      <td>grande</td>\n",
              "      <td>18</td>\n",
              "    </tr>\n",
              "    <tr>\n",
              "      <th>2</th>\n",
              "      <td>demasiado</td>\n",
              "      <td>23</td>\n",
              "    </tr>\n",
              "    <tr>\n",
              "      <th>3</th>\n",
              "      <td>aparatoso</td>\n",
              "      <td>1</td>\n",
              "    </tr>\n",
              "    <tr>\n",
              "      <th>4</th>\n",
              "      <td>mal</td>\n",
              "      <td>56</td>\n",
              "    </tr>\n",
              "  </tbody>\n",
              "</table>\n",
              "</div>"
            ],
            "text/plain": [
              "     palabra  frecuencia\n",
              "0   malisimo           3\n",
              "1     grande          18\n",
              "2  demasiado          23\n",
              "3  aparatoso           1\n",
              "4        mal          56"
            ]
          },
          "metadata": {
            "tags": []
          },
          "execution_count": 10
        }
      ]
    },
    {
      "cell_type": "code",
      "metadata": {
        "colab": {
          "base_uri": "https://localhost:8080/",
          "height": 204
        },
        "id": "rFq4SRQyK804",
        "outputId": "7f9ed237-753c-45da-fe21-80124c000f87"
      },
      "source": [
        "frecuencia1.sort_values('frecuencia',ascending=False, inplace = True)\n",
        "frecuencia1.head()"
      ],
      "execution_count": 11,
      "outputs": [
        {
          "output_type": "execute_result",
          "data": {
            "text/html": [
              "<div>\n",
              "<style scoped>\n",
              "    .dataframe tbody tr th:only-of-type {\n",
              "        vertical-align: middle;\n",
              "    }\n",
              "\n",
              "    .dataframe tbody tr th {\n",
              "        vertical-align: top;\n",
              "    }\n",
              "\n",
              "    .dataframe thead th {\n",
              "        text-align: right;\n",
              "    }\n",
              "</style>\n",
              "<table border=\"1\" class=\"dataframe\">\n",
              "  <thead>\n",
              "    <tr style=\"text-align: right;\">\n",
              "      <th></th>\n",
              "      <th>palabra</th>\n",
              "      <th>frecuencia</th>\n",
              "    </tr>\n",
              "  </thead>\n",
              "  <tbody>\n",
              "    <tr>\n",
              "      <th>13</th>\n",
              "      <td>bien</td>\n",
              "      <td>123</td>\n",
              "    </tr>\n",
              "    <tr>\n",
              "      <th>83</th>\n",
              "      <td>calidad</td>\n",
              "      <td>89</td>\n",
              "    </tr>\n",
              "    <tr>\n",
              "      <th>99</th>\n",
              "      <td>dos</td>\n",
              "      <td>86</td>\n",
              "    </tr>\n",
              "    <tr>\n",
              "      <th>76</th>\n",
              "      <td>recomiendo</td>\n",
              "      <td>79</td>\n",
              "    </tr>\n",
              "    <tr>\n",
              "      <th>101</th>\n",
              "      <td>amazon</td>\n",
              "      <td>71</td>\n",
              "    </tr>\n",
              "  </tbody>\n",
              "</table>\n",
              "</div>"
            ],
            "text/plain": [
              "        palabra  frecuencia\n",
              "13         bien         123\n",
              "83      calidad          89\n",
              "99          dos          86\n",
              "76   recomiendo          79\n",
              "101      amazon          71"
            ]
          },
          "metadata": {
            "tags": []
          },
          "execution_count": 11
        }
      ]
    },
    {
      "cell_type": "code",
      "metadata": {
        "colab": {
          "base_uri": "https://localhost:8080/",
          "height": 574
        },
        "id": "qnz7c5ghLjPx",
        "outputId": "4e70da30-2188-4584-e005-4f4a74c3c263"
      },
      "source": [
        "plt.figure(figsize = (15,8))\n",
        "plt.title(\"Frecuencia para las palabras en reviews con 1 estrella\")\n",
        "plot = sns.barplot(x  = frecuencia1[:30].palabra, y = frecuencia1[:30].frecuencia)\n",
        "for item in plot.get_xticklabels():\n",
        "    item.set_rotation(90)\n",
        "plt.show()"
      ],
      "execution_count": 12,
      "outputs": [
        {
          "output_type": "display_data",
          "data": {
            "image/png": "[encoded data removed]",
            "text/plain": [
              "<Figure size 1080x576 with 1 Axes>"
            ]
          },
          "metadata": {
            "tags": [],
            "needs_background": "light"
          }
        }
      ]
    },
    {
      "cell_type": "code",
      "metadata": {
        "colab": {
          "base_uri": "https://localhost:8080/",
          "height": 569
        },
        "id": "lcc0j54xMXPw",
        "outputId": "3ec3a021-68cf-40c2-adff-c1cbcd1eba10"
      },
      "source": [
        "reviews_dev2 = []\n",
        "ds_dev2 = ds_dev[ds_dev.stars == 3]\n",
        "for i in range(ds_dev2.shape[0]):\n",
        "    review = ds_dev2.iloc[i].review_body  \n",
        "    review = review.lower()\n",
        "    review = nltk.tokenize.RegexpTokenizer(\"[\\w]+\").tokenize(review)\n",
        "    review = [word for word in review if word not in stopwords]\n",
        "    review = [word for word in review if word not in filtrar]\n",
        "\n",
        "    reviews_dev2.append(review)\n",
        "\n",
        "reviews_dev2 = list(itertools.chain(*reviews_dev2))\n",
        "reviews_dev2[0:10]\n",
        "\n",
        "frecuencia2 = nltk.FreqDist(reviews_dev2)\n",
        "\n",
        "frecuencia2 = pd.DataFrame(list(frecuencia2.items()), columns = [\"palabra\",\"frecuencia\"])\n",
        "\n",
        "frecuencia2.sort_values('frecuencia',ascending=False, inplace = True)\n",
        "\n",
        "plt.figure(figsize = (15,8))\n",
        "plt.title(\"Frecuencia para las palabras en reviews con 3 estrellas\")\n",
        "plot = sns.barplot(x  = frecuencia2[:30].palabra, y = frecuencia2[:30].frecuencia)\n",
        "for item in plot.get_xticklabels():\n",
        "    item.set_rotation(90)\n",
        "plt.show()"
      ],
      "execution_count": 13,
      "outputs": [
        {
          "output_type": "display_data",
          "data": {
            "image/png": "[encoded data removed]",
            "text/plain": [
              "<Figure size 1080x576 with 1 Axes>"
            ]
          },
          "metadata": {
            "tags": [],
            "needs_background": "light"
          }
        }
      ]
    },
    {
      "cell_type": "code",
      "metadata": {
        "colab": {
          "base_uri": "https://localhost:8080/",
          "height": 591
        },
        "id": "cUifo5S5PhzX",
        "outputId": "8a267c10-d189-4f2a-b9aa-2d026f208e78"
      },
      "source": [
        "reviews_dev3 = []\n",
        "ds_dev3 = ds_dev[ds_dev.stars == 5]\n",
        "for i in range(ds_dev3.shape[0]):\n",
        "    review = ds_dev3.iloc[i].review_body  \n",
        "    review = review.lower()\n",
        "    review = nltk.tokenize.RegexpTokenizer(\"[\\w]+\").tokenize(review)\n",
        "    review = [word for word in review if word not in stopwords]\n",
        "    review = [word for word in review if word not in filtrar]\n",
        "\n",
        "    reviews_dev3.append(review)\n",
        "\n",
        "reviews_dev3 = list(itertools.chain(*reviews_dev3))\n",
        "reviews_dev3[0:10]\n",
        "\n",
        "frecuencia3 = nltk.FreqDist(reviews_dev3)\n",
        "\n",
        "frecuencia3 = pd.DataFrame(list(frecuencia3.items()), columns = [\"palabra\",\"frecuencia\"])\n",
        "\n",
        "frecuencia3.sort_values('frecuencia',ascending=False, inplace = True)\n",
        "\n",
        "plt.figure(figsize = (15,8))\n",
        "plt.title(\"Frecuencia para las palabras en reviews con 5 estrellas\")\n",
        "plot = sns.barplot(x  = frecuencia3[:30].palabra, y = frecuencia3[:30].frecuencia)\n",
        "for item in plot.get_xticklabels():\n",
        "    item.set_rotation(90)\n",
        "plt.show()"
      ],
      "execution_count": 14,
      "outputs": [
        {
          "output_type": "display_data",
          "data": {
            "image/png": "[encoded data removed]",
            "text/plain": [
              "<Figure size 1080x576 with 1 Axes>"
            ]
          },
          "metadata": {
            "tags": [],
            "needs_background": "light"
          }
        }
      ]
    },
    {
      "cell_type": "markdown",
      "metadata": {
        "id": "NFCtC8Trz-_z"
      },
      "source": [
        "Vemos que hay mucha similaridad en las palabras frecuentes para los tres casos grupos elegidos."
      ]
    },
    {
      "cell_type": "code",
      "metadata": {
        "id": "XrbLOOjA0Ih7"
      },
      "source": [
        "#Para el modelo utilizo TF-IDF\n",
        "from sklearn.feature_extraction.text import CountVectorizer\n",
        "from sklearn.feature_extraction.text import TfidfVectorizer "
      ],
      "execution_count": 15,
      "outputs": []
    },
    {
      "cell_type": "code",
      "metadata": {
        "id": "jBS3dBeb6tgu"
      },
      "source": [
        "tfidf_vectorizer=TfidfVectorizer(use_idf=True)\n",
        "tfidf_vectorizer_vectors = tfidf_vectorizer.fit_transform(ds_dev[\"review_body\"])"
      ],
      "execution_count": 16,
      "outputs": []
    },
    {
      "cell_type": "code",
      "metadata": {
        "id": "fKf9wizt7wwf"
      },
      "source": [
        "#Convierto a Pandas Dataframe\n",
        "df_idf = pd.DataFrame(data=tfidf_vectorizer_vectors.toarray(), columns=tfidf_vectorizer.get_feature_names())"
      ],
      "execution_count": 17,
      "outputs": []
    },
    {
      "cell_type": "code",
      "metadata": {
        "colab": {
          "base_uri": "https://localhost:8080/"
        },
        "id": "nAim-ohy77MK",
        "outputId": "ab7218b2-59ef-4eba-c96e-9065873cb40d"
      },
      "source": [
        "df_idf.shape"
      ],
      "execution_count": 18,
      "outputs": [
        {
          "output_type": "execute_result",
          "data": {
            "text/plain": [
              "(5000, 11014)"
            ]
          },
          "metadata": {
            "tags": []
          },
          "execution_count": 18
        }
      ]
    },
    {
      "cell_type": "code",
      "metadata": {
        "id": "F1J9_nX7PxiN"
      },
      "source": [
        "import spacy\n",
        "import spacy_transformers\n",
        "nlp = spacy.load(\"es_core_news_sm\")"
      ],
      "execution_count": 20,
      "outputs": []
    },
    {
      "cell_type": "code",
      "metadata": {
        "id": "-Ff_5hcqNPiG"
      },
      "source": [
        "#Definimos una funcion para pre-procesar el texto\n",
        "def cleanData(txt):\n",
        "    import re\n",
        "    import string\n",
        "    import itertools \n",
        "    import re\n",
        "    import nltk\n",
        "    from string import punctuation   \n",
        "\n",
        "    #Reemplazo caracteres que no sean letras, por espacios\n",
        "    txt=re.sub(\"[^a-zA-Z]\",\" \",str(txt))\n",
        "\n",
        "    #Paso todo a minúsculas\n",
        "    txt=txt.lower()\n",
        "\n",
        "    #Tokenizo\n",
        "    txt=nltk.word_tokenize(txt)\n",
        "    \n",
        "    #Lemmatización\n",
        "    txt = nlp(\" \".join(txt))\n",
        "    txt = [token.lemma_ for token in txt]\n",
        "\n",
        "    #Elimino las palabras de menos de 3 letras\n",
        "    txt = [palabra for palabra in txt if len(palabra)>3]\n",
        "\n",
        "    # Sacamos las Stopwords\n",
        "    txt = [palabra for palabra in txt if not palabra in stopwords]\n",
        "\n",
        "    txt=\" \".join(txt)\n",
        "\n",
        "    return txt"
      ],
      "execution_count": 111,
      "outputs": []
    },
    {
      "cell_type": "code",
      "metadata": {
        "id": "f_6sSxKaOgFF"
      },
      "source": [
        "ds_dev_clean = ds_dev['review_body'].map(lambda x: cleanData(x))"
      ],
      "execution_count": 109,
      "outputs": []
    },
    {
      "cell_type": "code",
      "metadata": {
        "id": "xo99Ji6OZ_Kw"
      },
      "source": [
        "ds_test_clean = ds_test['review_body'].map(lambda x: cleanData(x))"
      ],
      "execution_count": 110,
      "outputs": []
    },
    {
      "cell_type": "code",
      "metadata": {
        "id": "sYxH25dSO0iy"
      },
      "source": [
        "ds_dev_clean = pd.DataFrame(ds_dev_clean)\n",
        "ds_test_clean = pd.DataFrame(ds_test_clean)"
      ],
      "execution_count": 120,
      "outputs": []
    },
    {
      "cell_type": "code",
      "metadata": {
        "id": "-8wkyaj8-AHp"
      },
      "source": [
        "#Creo una función que haga la tarea anterior\n",
        "\n",
        "def tokenize_review(review_text):\n",
        "  #Importo las librerias necesarias\n",
        "  from sklearn.feature_extraction.text import TfidfTransformer\n",
        "\n",
        "  #Utilizo tf_idf\n",
        "  tfidf_vectorizer=TfidfVectorizer(use_idf=True, max_features=500)\n",
        "  tfidf_vectorizer_vectors = tfidf_vectorizer.fit_transform(review_text)\n",
        "  \n",
        "  #Convierto a Pandas Dataframe\n",
        "  df_idf = pd.DataFrame(data=tfidf_vectorizer_vectors.toarray(), columns=tfidf_vectorizer.get_feature_names())\n",
        "\n",
        "  return df_idf\n",
        "\n",
        "def tokenize_review2(review_text):\n",
        "  from sklearn.feature_extraction.text import CountVectorizer\n",
        "\n",
        "  max_features=500\n",
        "\n",
        "  cou_vec=CountVectorizer(max_features=max_features)\n",
        "  resultado = cou_vec.fit_transform(review_text)\n",
        "  resultado = pd.DataFrame(resultado.todense(), columns=cou_vec.get_feature_names())\n",
        "\n",
        "  return resultado"
      ],
      "execution_count": 184,
      "outputs": []
    },
    {
      "cell_type": "code",
      "metadata": {
        "id": "1lTGEvjNmt1-"
      },
      "source": [
        "prev = tokenize_review2(ds_dev_clean['review_body'])"
      ],
      "execution_count": 185,
      "outputs": []
    },
    {
      "cell_type": "code",
      "metadata": {
        "id": "86SzIXWVGMm9"
      },
      "source": [
        "xtrain = tokenize_review2(ds_dev_clean['review_body'])\n",
        "ytrain = ds_dev['stars']\n",
        "xtest = tokenize_review2(ds_test_clean['review_body'])\n",
        "ytest = ds_test['stars']"
      ],
      "execution_count": 186,
      "outputs": []
    },
    {
      "cell_type": "code",
      "metadata": {
        "colab": {
          "base_uri": "https://localhost:8080/"
        },
        "id": "zwnLf7t6JI_5",
        "outputId": "ec8398ef-d167-4ea6-a5c4-4629171a4b8d"
      },
      "source": [
        "#Modelo bench\n",
        "from sklearn.naive_bayes import GaussianNB\n",
        "nb = GaussianNB()\n",
        "nb.fit(xtrain,ytrain)\n",
        "print(\"acc train: \", nb.score(xtrain,ytrain))\n",
        "print(\"acc test: \", nb.score(xtest,ytest))"
      ],
      "execution_count": 187,
      "outputs": [
        {
          "output_type": "stream",
          "text": [
            "acc train:  0.423\n",
            "acc test:  0.232\n"
          ],
          "name": "stdout"
        }
      ]
    },
    {
      "cell_type": "markdown",
      "metadata": {
        "id": "Sk18uxlDIq4H"
      },
      "source": [
        "Veo que el modelo benchmark tuvo una mala performance en general, pero acertó más en el set train que en el test. Esto puede significar un over-fitting. Para no sacar conclusiones apresuradas, veré primero como es la performance del modelo elegido."
      ]
    },
    {
      "cell_type": "code",
      "metadata": {
        "id": "gzPHt8ZBL_wz"
      },
      "source": [
        "from sklearn.ensemble import RandomForestClassifier\n",
        "from sklearn.metrics import confusion_matrix, accuracy_score"
      ],
      "execution_count": 188,
      "outputs": []
    },
    {
      "cell_type": "code",
      "metadata": {
        "id": "k9iCJgVPlaY8"
      },
      "source": [
        "rndforest = RandomForestClassifier(n_estimators=500, max_features='sqrt', n_jobs=-1, oob_score = True, random_state = 42)"
      ],
      "execution_count": 204,
      "outputs": []
    },
    {
      "cell_type": "code",
      "metadata": {
        "colab": {
          "base_uri": "https://localhost:8080/"
        },
        "id": "xBroocIenA6E",
        "outputId": "d4664aeb-d231-4464-b39f-e77d5936d67c"
      },
      "source": [
        "rndforest.fit(xtrain,ytrain)"
      ],
      "execution_count": 205,
      "outputs": [
        {
          "output_type": "execute_result",
          "data": {
            "text/plain": [
              "RandomForestClassifier(bootstrap=True, ccp_alpha=0.0, class_weight=None,\n",
              "                       criterion='gini', max_depth=None, max_features='sqrt',\n",
              "                       max_leaf_nodes=None, max_samples=None,\n",
              "                       min_impurity_decrease=0.0, min_impurity_split=None,\n",
              "                       min_samples_leaf=1, min_samples_split=2,\n",
              "                       min_weight_fraction_leaf=0.0, n_estimators=500,\n",
              "                       n_jobs=-1, oob_score=True, random_state=42, verbose=0,\n",
              "                       warm_start=False)"
            ]
          },
          "metadata": {
            "tags": []
          },
          "execution_count": 205
        }
      ]
    },
    {
      "cell_type": "code",
      "metadata": {
        "id": "AQU4Hm0cnDGL"
      },
      "source": [
        "ytrain_pred = rndforest.predict(xtrain)\n",
        "ytest_pred = rndforest.predict(xtest)"
      ],
      "execution_count": 206,
      "outputs": []
    },
    {
      "cell_type": "code",
      "metadata": {
        "colab": {
          "base_uri": "https://localhost:8080/",
          "height": 339
        },
        "id": "rRxbvx9zqJTh",
        "outputId": "fd7696ef-4a97-4327-fa59-200341ccce4a"
      },
      "source": [
        "cm=confusion_matrix(ytest,ytest_pred)\n",
        "f,ax=plt.subplots(figsize=(5,5))\n",
        "sns.heatmap(cm,annot=True,linewidth=.5,linecolor=\"r\",fmt=\".0f\",ax=ax)\n",
        "plt.xlabel(\"y_pred\")\n",
        "plt.ylabel(\"y_true\")\n",
        "plt.show()"
      ],
      "execution_count": 211,
      "outputs": [
        {
          "output_type": "display_data",
          "data": {
            "image/png": "[encoded data removed]",
            "text/plain": [
              "<Figure size 360x360 with 2 Axes>"
            ]
          },
          "metadata": {
            "tags": [],
            "needs_background": "light"
          }
        }
      ]
    },
    {
      "cell_type": "markdown",
      "metadata": {
        "id": "DHG1g2k8r_PJ"
      },
      "source": [
        "Podemos ver en el gráfico que el modelo es malo clasificando los reviews de 2 estrellas, respecto al resto."
      ]
    },
    {
      "cell_type": "code",
      "metadata": {
        "colab": {
          "base_uri": "https://localhost:8080/"
        },
        "id": "hWPSMpr4qQ6o",
        "outputId": "f3f0a98e-62aa-40c9-88fc-07611233f3df"
      },
      "source": [
        "print(\"acc train: \", accuracy_score(ytrain, ytrain_pred))\n",
        "print(\"acc test: \", accuracy_score(ytest, ytest_pred))"
      ],
      "execution_count": 208,
      "outputs": [
        {
          "output_type": "stream",
          "text": [
            "acc train:  0.98\n",
            "acc test:  0.2724\n"
          ],
          "name": "stdout"
        }
      ]
    },
    {
      "cell_type": "markdown",
      "metadata": {
        "id": "H5Mqs1V8U3I6"
      },
      "source": [
        "El modelo mejora mucho en train respecto al modelo benchmark, obtiene un accuracy muy alto, pero muy bajo para el set test. Esto probablemente se debe a una mala transformación de las features."
      ]
    }
  ]
}