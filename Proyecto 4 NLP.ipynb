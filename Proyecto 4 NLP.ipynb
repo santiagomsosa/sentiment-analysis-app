{
 "cells": [
  {
   "cell_type": "markdown",
   "metadata": {},
   "source": [
    "# Proyecto 04 - Procesamiento del Lenguaje Natural\n",
    "\n",
    "## Dataset: The Multilingual Amazon Reviews Corpus\n",
    "\n",
    "## Objetivos\n",
    "\n"
   ]
  },
  {
   "cell_type": "markdown",
   "metadata": {},
   "source": [
    "A partir del trabajo realizado en el proyecto 3 de NLP usaré el dataset de reviews para hacer 'Sentiment Analysis' sobre los reviews del dataset. Para poder lograr este objetivo utilizaré la librería \"pysentimiento\" que tiene que contiene un modelo pre-entrenado para sentiment analysis, el momento en ninguno de los proyectos este tipo de modelos.\n",
    "\n",
    "Además crearé una webapp que muestre un resultado sobre la frase ingresada por el usuario (si es positiva, neutra o negativa). Para lograrlo, utilizaré la misma librería utilizada en este notebook y Streamlit, herramienta que permite crear webapps."
   ]
  },
  {
   "cell_type": "markdown",
   "metadata": {},
   "source": [
    "## Supuestos"
   ]
  },
  {
   "cell_type": "markdown",
   "metadata": {},
   "source": [
    "Para poder hacer un Sentiment Analysis sobre el dataset debo transformar la columna 'Stars' del dataset y convertirla en una etiqueta que sea \"Positivo\", \"Neutro\" o \"Negativo\".\n",
    "\n",
    "El criterio que seguiré para hacer esta transformación será:\n",
    "- De 1 a 2 Estrellas consideraré el review como negativo\n",
    "- Con 3 estrellas consideraré el review como neutro\n",
    "- De 4 a 5 Estrellas consideraré el review como positivo"
   ]
  },
  {
   "cell_type": "markdown",
   "metadata": {},
   "source": [
    "## Preparación del dataset"
   ]
  },
  {
   "cell_type": "code",
   "execution_count": 88,
   "metadata": {},
   "outputs": [],
   "source": [
    "import itertools\n",
    "\n",
    "import numpy as np\n",
    "import pandas as pd\n",
    "\n",
    "import matplotlib.pyplot as plt\n",
    "import seaborn as sns"
   ]
  },
  {
   "cell_type": "code",
   "execution_count": 89,
   "metadata": {},
   "outputs": [],
   "source": [
    "#Importo el dataset\n",
    "ds= pd.read_json('dataset_es_train.json', lines= True)"
   ]
  },
  {
   "cell_type": "code",
   "execution_count": 90,
   "metadata": {},
   "outputs": [],
   "source": [
    "#Elimino las columnas que no necesito y me quedo con las columnas 'review_body' y 'stars'\n",
    "ds = ds[['review_body','stars']]"
   ]
  },
  {
   "cell_type": "code",
   "execution_count": 91,
   "metadata": {},
   "outputs": [
    {
     "data": {
      "text/plain": [
       "(200000, 2)"
      ]
     },
     "execution_count": 91,
     "metadata": {},
     "output_type": "execute_result"
    }
   ],
   "source": [
    "#Revisamos la forma del dataset filtrado\n",
    "ds.shape"
   ]
  },
  {
   "cell_type": "code",
   "execution_count": 92,
   "metadata": {},
   "outputs": [
    {
     "name": "stdout",
     "output_type": "stream",
     "text": [
      "Reviews Negativos: 80000\n",
      "Reviews Neutros: 40000\n",
      "Reviews Positivos: 80000\n"
     ]
    }
   ],
   "source": [
    "#Primero hagamos un contemos sobre los grupos de estrellas de 1 a 3, y de 4 a 5\n",
    "cont_neg = ds[ds['stars'] < 3]\n",
    "print(\"Reviews Negativos: \" + str(cont_neg.shape[0]))\n",
    "cont_neu = ds[ds['stars'] == 3]\n",
    "print(\"Reviews Neutros: \" + str(cont_neu.shape[0]))\n",
    "cont_pos = ds[ds['stars'] > 3]\n",
    "print(\"Reviews Positivos: \" + str(cont_pos.shape[0]))"
   ]
  },
  {
   "cell_type": "code",
   "execution_count": 93,
   "metadata": {},
   "outputs": [],
   "source": [
    "#Ahora convertimos las etiquetas con el criterio definido anteriormente\n",
    "\n",
    "#Cambiamos los nombres de las columnas del dataset\n",
    "ds.columns = ['review','label']\n",
    "\n",
    "\n",
    "ds.label = ds.label.replace({1: \"NEGATIVE\",2: \"NEGATIVE\",3: \"NEUTRAL\",4: \"POSITIVE\",5: \"POSITIVE\"})"
   ]
  },
  {
   "cell_type": "code",
   "execution_count": 101,
   "metadata": {},
   "outputs": [
    {
     "data": {
      "text/plain": [
       "80000"
      ]
     },
     "execution_count": 101,
     "metadata": {},
     "output_type": "execute_result"
    }
   ],
   "source": [
    "#Controlamos que la cantidad de filas coincidan con los originales (previos al cambio)\n",
    "ds[ds['label']==\"NEGATIVE\"].shape[0]"
   ]
  },
  {
   "cell_type": "markdown",
   "metadata": {},
   "source": [
    "## Clasificación de las muestras"
   ]
  },
  {
   "cell_type": "code",
   "execution_count": 130,
   "metadata": {},
   "outputs": [],
   "source": [
    "#Importo la librería a utilizar para sentiment analysis en español\n",
    "#La librería y documentación está disponible en: https://github.com/finiteautomata/pysentimiento/\n",
    "\n",
    "from pysentimiento import SentimentAnalyzer"
   ]
  },
  {
   "cell_type": "code",
   "execution_count": 60,
   "metadata": {},
   "outputs": [],
   "source": [
    "#Defino el analizador\n",
    "analyzer = SentimentAnalyzer()"
   ]
  },
  {
   "cell_type": "code",
   "execution_count": 61,
   "metadata": {},
   "outputs": [
    {
     "data": {
      "text/plain": [
       "'POS'"
      ]
     },
     "execution_count": 61,
     "metadata": {},
     "output_type": "execute_result"
    }
   ],
   "source": [
    "#Hacemos una prueba\n",
    "analyzer.predict(\"En acámica hay muy buenos profesores\")"
   ]
  },
  {
   "cell_type": "code",
   "execution_count": 62,
   "metadata": {},
   "outputs": [
    {
     "data": {
      "text/plain": [
       "'NEG'"
      ]
     },
     "execution_count": 62,
     "metadata": {},
     "output_type": "execute_result"
    }
   ],
   "source": [
    "#Probamos con una frase negativa\n",
    "analyzer.predict(\"No sos bueno programando\")"
   ]
  },
  {
   "cell_type": "code",
   "execution_count": 63,
   "metadata": {},
   "outputs": [],
   "source": [
    "#El modelo soporta un máximo de 500 caracteres para la frase a analizar,\n",
    "# para no tener problemas cortamos el string del review en ese valor\n",
    "ds['review'] = ds['review'].str[:500]"
   ]
  },
  {
   "cell_type": "markdown",
   "metadata": {},
   "source": [
    "Para poder aplicar el analisis sobre el dataset voy a crear una función que tome cada review y devuelva una predicción."
   ]
  },
  {
   "cell_type": "code",
   "execution_count": 66,
   "metadata": {},
   "outputs": [],
   "source": [
    "def sentiment_pred(frase):\n",
    "    prediccion = analyzer.predict(frase)\n",
    "    return prediccion"
   ]
  },
  {
   "cell_type": "markdown",
   "metadata": {},
   "source": [
    "Ahora aplico la funcion a cada una de las reviews en el dataset, obteniendo la predicción para cada etiqueta."
   ]
  },
  {
   "cell_type": "code",
   "execution_count": 14,
   "metadata": {},
   "outputs": [],
   "source": [
    "t_pred = ds['review'].apply(lambda x: sentiment_pred(x))"
   ]
  },
  {
   "cell_type": "markdown",
   "metadata": {},
   "source": [
    "Junto el dataset original con las predicciones en un mismo dataset"
   ]
  },
  {
   "cell_type": "code",
   "execution_count": 95,
   "metadata": {},
   "outputs": [],
   "source": [
    "y_pred = pd.DataFrame(t_pred)\n",
    "y_pred.columns = ['y_pred']"
   ]
  },
  {
   "cell_type": "code",
   "execution_count": 102,
   "metadata": {},
   "outputs": [],
   "source": [
    "df = pd.concat([ds,y_pred],axis=1)"
   ]
  },
  {
   "cell_type": "code",
   "execution_count": 103,
   "metadata": {},
   "outputs": [
    {
     "data": {
      "text/plain": [
       "(200000, 3)"
      ]
     },
     "execution_count": 103,
     "metadata": {},
     "output_type": "execute_result"
    }
   ],
   "source": [
    "df.shape"
   ]
  },
  {
   "cell_type": "code",
   "execution_count": 104,
   "metadata": {},
   "outputs": [
    {
     "data": {
      "text/html": [
       "<div>\n",
       "<style scoped>\n",
       "    .dataframe tbody tr th:only-of-type {\n",
       "        vertical-align: middle;\n",
       "    }\n",
       "\n",
       "    .dataframe tbody tr th {\n",
       "        vertical-align: top;\n",
       "    }\n",
       "\n",
       "    .dataframe thead th {\n",
       "        text-align: right;\n",
       "    }\n",
       "</style>\n",
       "<table border=\"1\" class=\"dataframe\">\n",
       "  <thead>\n",
       "    <tr style=\"text-align: right;\">\n",
       "      <th></th>\n",
       "      <th>review</th>\n",
       "      <th>label</th>\n",
       "      <th>y_pred</th>\n",
       "    </tr>\n",
       "  </thead>\n",
       "  <tbody>\n",
       "    <tr>\n",
       "      <th>0</th>\n",
       "      <td>Nada bueno se me fue ka pantalla en menos de 8...</td>\n",
       "      <td>NEGATIVE</td>\n",
       "      <td>NEG</td>\n",
       "    </tr>\n",
       "    <tr>\n",
       "      <th>1</th>\n",
       "      <td>Horrible, nos tuvimos que comprar otro porque ...</td>\n",
       "      <td>NEGATIVE</td>\n",
       "      <td>NEG</td>\n",
       "    </tr>\n",
       "    <tr>\n",
       "      <th>2</th>\n",
       "      <td>Te obligan a comprar dos unidades y te llega s...</td>\n",
       "      <td>NEGATIVE</td>\n",
       "      <td>NEG</td>\n",
       "    </tr>\n",
       "    <tr>\n",
       "      <th>3</th>\n",
       "      <td>No entro en descalificar al vendedor, solo pue...</td>\n",
       "      <td>NEGATIVE</td>\n",
       "      <td>NEG</td>\n",
       "    </tr>\n",
       "    <tr>\n",
       "      <th>4</th>\n",
       "      <td>Llega tarde y co la talla equivocada</td>\n",
       "      <td>NEGATIVE</td>\n",
       "      <td>NEG</td>\n",
       "    </tr>\n",
       "  </tbody>\n",
       "</table>\n",
       "</div>"
      ],
      "text/plain": [
       "                                              review     label y_pred\n",
       "0  Nada bueno se me fue ka pantalla en menos de 8...  NEGATIVE    NEG\n",
       "1  Horrible, nos tuvimos que comprar otro porque ...  NEGATIVE    NEG\n",
       "2  Te obligan a comprar dos unidades y te llega s...  NEGATIVE    NEG\n",
       "3  No entro en descalificar al vendedor, solo pue...  NEGATIVE    NEG\n",
       "4               Llega tarde y co la talla equivocada  NEGATIVE    NEG"
      ]
     },
     "execution_count": 104,
     "metadata": {},
     "output_type": "execute_result"
    }
   ],
   "source": [
    "df.head()"
   ]
  },
  {
   "cell_type": "code",
   "execution_count": 107,
   "metadata": {},
   "outputs": [],
   "source": [
    "dataset = df"
   ]
  },
  {
   "cell_type": "code",
   "execution_count": 109,
   "metadata": {},
   "outputs": [
    {
     "data": {
      "text/plain": [
       "array(['NEGATIVE', 'NEUTRAL', 'POSITIVE'], dtype=object)"
      ]
     },
     "execution_count": 109,
     "metadata": {},
     "output_type": "execute_result"
    }
   ],
   "source": [
    "dataset.label.unique()"
   ]
  },
  {
   "cell_type": "code",
   "execution_count": 110,
   "metadata": {},
   "outputs": [],
   "source": [
    "dataset[\"y_pred\"] = dataset[\"y_pred\"].replace({\"NEG\": \"NEGATIVE\",\"POS\":\"POSITIVE\", \"NEU\":\"NEUTRAL\"})"
   ]
  },
  {
   "cell_type": "code",
   "execution_count": 111,
   "metadata": {},
   "outputs": [
    {
     "data": {
      "text/html": [
       "<div>\n",
       "<style scoped>\n",
       "    .dataframe tbody tr th:only-of-type {\n",
       "        vertical-align: middle;\n",
       "    }\n",
       "\n",
       "    .dataframe tbody tr th {\n",
       "        vertical-align: top;\n",
       "    }\n",
       "\n",
       "    .dataframe thead th {\n",
       "        text-align: right;\n",
       "    }\n",
       "</style>\n",
       "<table border=\"1\" class=\"dataframe\">\n",
       "  <thead>\n",
       "    <tr style=\"text-align: right;\">\n",
       "      <th></th>\n",
       "      <th>review</th>\n",
       "      <th>label</th>\n",
       "      <th>y_pred</th>\n",
       "    </tr>\n",
       "  </thead>\n",
       "  <tbody>\n",
       "    <tr>\n",
       "      <th>0</th>\n",
       "      <td>Nada bueno se me fue ka pantalla en menos de 8...</td>\n",
       "      <td>NEGATIVE</td>\n",
       "      <td>NEGATIVE</td>\n",
       "    </tr>\n",
       "    <tr>\n",
       "      <th>1</th>\n",
       "      <td>Horrible, nos tuvimos que comprar otro porque ...</td>\n",
       "      <td>NEGATIVE</td>\n",
       "      <td>NEGATIVE</td>\n",
       "    </tr>\n",
       "    <tr>\n",
       "      <th>2</th>\n",
       "      <td>Te obligan a comprar dos unidades y te llega s...</td>\n",
       "      <td>NEGATIVE</td>\n",
       "      <td>NEGATIVE</td>\n",
       "    </tr>\n",
       "    <tr>\n",
       "      <th>3</th>\n",
       "      <td>No entro en descalificar al vendedor, solo pue...</td>\n",
       "      <td>NEGATIVE</td>\n",
       "      <td>NEGATIVE</td>\n",
       "    </tr>\n",
       "    <tr>\n",
       "      <th>4</th>\n",
       "      <td>Llega tarde y co la talla equivocada</td>\n",
       "      <td>NEGATIVE</td>\n",
       "      <td>NEGATIVE</td>\n",
       "    </tr>\n",
       "  </tbody>\n",
       "</table>\n",
       "</div>"
      ],
      "text/plain": [
       "                                              review     label    y_pred\n",
       "0  Nada bueno se me fue ka pantalla en menos de 8...  NEGATIVE  NEGATIVE\n",
       "1  Horrible, nos tuvimos que comprar otro porque ...  NEGATIVE  NEGATIVE\n",
       "2  Te obligan a comprar dos unidades y te llega s...  NEGATIVE  NEGATIVE\n",
       "3  No entro en descalificar al vendedor, solo pue...  NEGATIVE  NEGATIVE\n",
       "4               Llega tarde y co la talla equivocada  NEGATIVE  NEGATIVE"
      ]
     },
     "execution_count": 111,
     "metadata": {},
     "output_type": "execute_result"
    }
   ],
   "source": [
    "dataset.head()"
   ]
  },
  {
   "cell_type": "markdown",
   "metadata": {},
   "source": [
    "Ahora veo que tan bien predijo el modelo pre-entrenado respecto de las etiquetas originales:"
   ]
  },
  {
   "cell_type": "code",
   "execution_count": 112,
   "metadata": {},
   "outputs": [
    {
     "data": {
      "text/plain": [
       "array(['NEGATIVE', 'NEUTRAL', 'POSITIVE'], dtype=object)"
      ]
     },
     "execution_count": 112,
     "metadata": {},
     "output_type": "execute_result"
    }
   ],
   "source": [
    "dataset[\"label\"].unique()"
   ]
  },
  {
   "cell_type": "code",
   "execution_count": 113,
   "metadata": {},
   "outputs": [
    {
     "data": {
      "text/plain": [
       "array(['NEGATIVE', 'NEUTRAL', 'POSITIVE'], dtype=object)"
      ]
     },
     "execution_count": 113,
     "metadata": {},
     "output_type": "execute_result"
    }
   ],
   "source": [
    "dataset[\"y_pred\"].unique()"
   ]
  },
  {
   "cell_type": "code",
   "execution_count": 23,
   "metadata": {},
   "outputs": [],
   "source": [
    "from sklearn.metrics import confusion_matrix, accuracy_score"
   ]
  },
  {
   "cell_type": "markdown",
   "metadata": {},
   "source": [
    "### Conclusiones"
   ]
  },
  {
   "cell_type": "code",
   "execution_count": 127,
   "metadata": {},
   "outputs": [
    {
     "name": "stdout",
     "output_type": "stream",
     "text": [
      "El accuracy del modelo es: 0.655855\n"
     ]
    }
   ],
   "source": [
    "acc = accuracy_score(df['label'],df['y_pred'])\n",
    "\n",
    "print(\"El accuracy del modelo es: \" + str(acc))"
   ]
  },
  {
   "cell_type": "markdown",
   "metadata": {},
   "source": [
    "El accuracy obtenido para el modelo no es tan alto teniendo en cuenta que el accuracy de estos modelos suele rondar el 90%. Esto puede deberse a un sesgo del modelo para clasificar algún tipo de etiqueta. Lo analizaremos con un heatmap."
   ]
  },
  {
   "cell_type": "code",
   "execution_count": 128,
   "metadata": {},
   "outputs": [
    {
     "data": {
      "image/png": "[encoded data removed]",
      "text/plain": [
       "<Figure size 504x504 with 2 Axes>"
      ]
     },
     "metadata": {
      "needs_background": "light"
     },
     "output_type": "display_data"
    }
   ],
   "source": [
    "from sklearn.metrics import confusion_matrix\n",
    "\n",
    "cm1=confusion_matrix(df['label'],df['y_pred'])\n",
    "f,ax=plt.subplots(figsize=(7,7))\n",
    "sns.heatmap(cm1, xticklabels=[\"NEGATIVO\", \"NEUTRO\", \"POSITIVO\"], yticklabels=[\"NEGATIVO\", \"NEUTRO\", \"POSITIVO\"],annot=True,linewidth=.5,linecolor=\"r\",fmt=\".0f\",ax=ax)\n",
    "plt.xlabel(\"y_pred\")\n",
    "plt.ylabel(\"y_true\")\n",
    "plt.show()"
   ]
  },
  {
   "cell_type": "markdown",
   "metadata": {},
   "source": [
    "En el heatmap podemos ver que el modelo distingue muy bien los reviews positivos de los negativos y el mayor error suele estar sobre los reviews neutros, donde si confunde reviews positivos y negativos como neutros. \n",
    "\n",
    "Este comportamiento puede estar relacionado al criterio utilizado para convertir las estrellas a etiquetas que representen sentimientos, una review con 3 estrellas puede no ser un comentario neutro y dependerá del criterio de la persona para puntuar el producto. Si dejaramos de lado los comentarios neutros es probablemente el modelo clasificaría mejor."
   ]
  },
  {
   "cell_type": "markdown",
   "metadata": {},
   "source": [
    "## Web App de Sentiment Analysis"
   ]
  },
  {
   "cell_type": "markdown",
   "metadata": {},
   "source": [
    "Como mencioné al principio del informe, generé una webapp con Streamlit que utiliza la misma librería \"pysentimiento\" utilizada en el notebook.\n",
    "\n",
    "El archivo de la app se encuentra en el siguiente repositorio de github:\n",
    "https://github.com/santiagomsosa/sentiment-analysis-app/blob/main/proyecto4.py"
   ]
  },
  {
   "cell_type": "markdown",
   "metadata": {},
   "source": [
    "### Capturas de la APP"
   ]
  },
  {
   "cell_type": "markdown",
   "metadata": {},
   "source": [
    "#### Pantalla Inicial\n",
    "\n",
    "[![Foo](https://i.ibb.co/P9gjrYz/1.png)](http://google.com.au/)"
   ]
  },
  {
   "cell_type": "markdown",
   "metadata": {},
   "source": [
    "#### Comentario Positivo\n",
    "\n",
    "[![Foo](https://i.ibb.co/gD0wLy2/2.png)](http://google.com.au/)"
   ]
  },
  {
   "cell_type": "markdown",
   "metadata": {},
   "source": [
    "#### Comentario Neutro\n",
    "\n",
    "[![Foo](https://i.ibb.co/8B7nm4w/4.png)](http://google.com.au/)"
   ]
  },
  {
   "cell_type": "markdown",
   "metadata": {},
   "source": [
    "#### Comentario Negativo\n",
    "\n",
    "[![Foo](https://i.ibb.co/3M3mjqD/3.png)](http://google.com.au/)"
   ]
  }
 ],
 "metadata": {
  "kernelspec": {
   "display_name": "Python 3",
   "language": "python",
   "name": "python3"
  },
  "language_info": {
   "codemirror_mode": {
    "name": "ipython",
    "version": 3
   },
   "file_extension": ".py",
   "mimetype": "text/x-python",
   "name": "python",
   "nbconvert_exporter": "python",
   "pygments_lexer": "ipython3",
   "version": "3.8.5"
  }
 },
 "nbformat": 4,
 "nbformat_minor": 4
}
